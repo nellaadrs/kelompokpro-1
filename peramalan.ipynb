{
 "cells": [
  {
   "cell_type": "code",
   "execution_count": 1,
   "metadata": {},
   "outputs": [
    {
     "name": "stdout",
     "output_type": "stream",
     "text": [
      "isnain Fauziah 200411100007 (Ketua)\n",
      "Nella Adrisia Hartono 200411100107 (anggota)\n"
     ]
    }
   ],
   "source": [
    "print(\"isnain Fauziah 200411100007 (Ketua)\")\n",
    "print(\"Nella Adrisia Hartono 200411100107 (anggota)\")"
   ]
  },
  {
   "cell_type": "code",
   "execution_count": 2,
   "metadata": {},
   "outputs": [
    {
     "name": "stdout",
     "output_type": "stream",
     "text": [
      "Package                      Version             \n",
      "---------------------------- --------------------\n",
      "absl-py                      1.4.0               \n",
      "asttokens                    2.2.1               \n",
      "astunparse                   1.6.3               \n",
      "attrs                        19.3.0              \n",
      "Automat                      0.8.0               \n",
      "Babel                        2.6.0               \n",
      "backcall                     0.2.0               \n",
      "blinker                      1.4                 \n",
      "cachetools                   5.3.1               \n",
      "certifi                      2019.11.28          \n",
      "chardet                      3.0.4               \n",
      "Click                        7.0                 \n",
      "cloud-init                   22.3.4              \n",
      "colorama                     0.4.3               \n",
      "comm                         0.1.3               \n",
      "command-not-found            0.3                 \n",
      "configobj                    5.0.6               \n",
      "constantly                   15.1.0              \n",
      "contourpy                    1.0.7               \n",
      "cryptography                 2.8                 \n",
      "cupshelpers                  1.0                 \n",
      "cycler                       0.11.0              \n",
      "dbus-python                  1.2.16              \n",
      "debtcollector                2.0.0               \n",
      "debugpy                      1.6.7               \n",
      "decorator                    5.1.1               \n",
      "defer                        1.0.6               \n",
      "distro                       1.4.0               \n",
      "distro-info                  0.23ubuntu1         \n",
      "docutils                     0.16                \n",
      "entrypoints                  0.3                 \n",
      "executing                    1.2.0               \n",
      "flatbuffers                  23.5.26             \n",
      "fonttools                    4.39.4              \n",
      "gast                         0.4.0               \n",
      "google-auth                  2.19.1              \n",
      "google-auth-oauthlib         1.0.0               \n",
      "google-pasta                 0.2.0               \n",
      "grpcio                       1.54.2              \n",
      "h5py                         3.8.0               \n",
      "httplib2                     0.14.0              \n",
      "hyperlink                    19.0.0              \n",
      "idna                         2.8                 \n",
      "importlib-metadata           6.6.0               \n",
      "importlib-resources          5.12.0              \n",
      "incremental                  16.10.1             \n",
      "ipykernel                    6.23.1              \n",
      "ipython                      8.12.2              \n",
      "iso8601                      0.1.12              \n",
      "jax                          0.4.11              \n",
      "jedi                         0.18.2              \n",
      "Jinja2                       2.10.1              \n",
      "joblib                       1.2.0               \n",
      "jsonpatch                    1.22                \n",
      "jsonpointer                  2.0                 \n",
      "jsonschema                   3.2.0               \n",
      "jupyter-client               8.2.0               \n",
      "jupyter-core                 5.3.0               \n",
      "keras                        2.12.0              \n",
      "keyring                      18.0.1              \n",
      "kiwisolver                   1.4.4               \n",
      "language-selector            0.1                 \n",
      "launchpadlib                 1.10.13             \n",
      "lazr.restfulclient           0.14.2              \n",
      "lazr.uri                     1.0.3               \n",
      "libclang                     16.0.0              \n",
      "macaroonbakery               1.3.1               \n",
      "Markdown                     3.4.3               \n",
      "MarkupSafe                   2.1.3               \n",
      "matplotlib                   3.7.1               \n",
      "matplotlib-inline            0.1.6               \n",
      "ml-dtypes                    0.2.0               \n",
      "monotonic                    1.5                 \n",
      "more-itertools               4.2.0               \n",
      "msgpack                      0.6.2               \n",
      "nest-asyncio                 1.5.6               \n",
      "netaddr                      0.7.19              \n",
      "netifaces                    0.10.4              \n",
      "numpy                        1.23.5              \n",
      "oauthlib                     3.1.0               \n",
      "olefile                      0.46                \n",
      "opt-einsum                   3.3.0               \n",
      "oslo.config                  8.0.2               \n",
      "oslo.context                 3.0.2               \n",
      "oslo.i18n                    4.0.1               \n",
      "oslo.log                     4.1.1               \n",
      "oslo.serialization           3.1.1               \n",
      "oslo.utils                   4.1.1               \n",
      "packaging                    23.1                \n",
      "pandas                       2.0.2               \n",
      "parso                        0.8.3               \n",
      "pbr                          5.4.5               \n",
      "pexpect                      4.6.0               \n",
      "pickleshare                  0.7.5               \n",
      "Pillow                       7.0.0               \n",
      "pip                          20.0.2              \n",
      "platformdirs                 3.5.1               \n",
      "prompt-toolkit               3.0.38              \n",
      "protobuf                     4.23.2              \n",
      "psutil                       5.5.1               \n",
      "pure-eval                    0.2.2               \n",
      "pyasn1                       0.4.2               \n",
      "pyasn1-modules               0.2.1               \n",
      "pycairo                      1.16.2              \n",
      "pycups                       1.9.73              \n",
      "Pygments                     2.15.1              \n",
      "PyGObject                    3.36.0              \n",
      "PyHamcrest                   1.9.0               \n",
      "pyinotify                    0.9.6               \n",
      "PyJWT                        1.7.1               \n",
      "pymacaroons                  0.13.0              \n",
      "PyNaCl                       1.3.0               \n",
      "pyOpenSSL                    19.0.0              \n",
      "pyparsing                    2.4.6               \n",
      "pyRFC3339                    1.1                 \n",
      "pyrsistent                   0.15.5              \n",
      "pyserial                     3.4                 \n",
      "python-apt                   2.0.0+ubuntu0.20.4.8\n",
      "python-dateutil              2.8.2               \n",
      "python-debian                0.1.36ubuntu1       \n",
      "python-novnc                 1.0.0               \n",
      "pytz                         2023.3              \n",
      "pyxdg                        0.26                \n",
      "PyYAML                       5.3.1               \n",
      "pyzmq                        25.1.0              \n",
      "requests                     2.22.0              \n",
      "requests-oauthlib            1.3.1               \n",
      "requests-unixsocket          0.2.0               \n",
      "rfc3986                      1.3.2               \n",
      "roman                        2.0.0               \n",
      "rsa                          4.9                 \n",
      "scikit-learn                 1.2.2               \n",
      "scipy                        1.10.1              \n",
      "SecretStorage                2.3.1               \n",
      "service-identity             18.1.0              \n",
      "setuptools                   45.2.0              \n",
      "simplejson                   3.16.0              \n",
      "six                          1.14.0              \n",
      "sos                          4.3                 \n",
      "ssh-import-id                5.10                \n",
      "stack-data                   0.6.2               \n",
      "stevedore                    1.32.0              \n",
      "systemd-python               234                 \n",
      "tensorboard                  2.12.3              \n",
      "tensorboard-data-server      0.7.0               \n",
      "tensorflow                   2.12.0              \n",
      "tensorflow-estimator         2.12.0              \n",
      "tensorflow-io-gcs-filesystem 0.32.0              \n",
      "termcolor                    2.3.0               \n",
      "threadpoolctl                3.1.0               \n",
      "tornado                      6.3.2               \n",
      "traitlets                    5.9.0               \n",
      "Twisted                      18.9.0              \n",
      "typing-extensions            4.6.3               \n",
      "tzdata                       2023.3              \n",
      "ubuntu-advantage-tools       27.11.2             \n",
      "ufw                          0.36                \n",
      "unattended-upgrades          0.1                 \n",
      "urllib3                      1.25.8              \n",
      "wadllib                      1.3.3               \n",
      "wcwidth                      0.2.6               \n",
      "websockify                   0.9.0               \n",
      "Werkzeug                     2.3.5               \n",
      "wheel                        0.34.2              \n",
      "wrapt                        1.11.2              \n",
      "zipp                         3.15.0              \n",
      "zope.interface               4.7.1               \n",
      "Note: you may need to restart the kernel to use updated packages.\n"
     ]
    }
   ],
   "source": [
    "pip list"
   ]
  },
  {
   "cell_type": "code",
   "execution_count": 3,
   "metadata": {},
   "outputs": [
    {
     "name": "stdout",
     "output_type": "stream",
     "text": [
      "Requirement already satisfied: pandas in /home/ubuntu/.local/lib/python3.8/site-packages (2.0.2)\n",
      "Requirement already satisfied: python-dateutil>=2.8.2 in /home/ubuntu/.local/lib/python3.8/site-packages (from pandas) (2.8.2)\n",
      "Requirement already satisfied: numpy>=1.20.3; python_version < \"3.10\" in /home/ubuntu/.local/lib/python3.8/site-packages (from pandas) (1.23.5)\n",
      "Requirement already satisfied: tzdata>=2022.1 in /home/ubuntu/.local/lib/python3.8/site-packages (from pandas) (2023.3)\n",
      "Requirement already satisfied: pytz>=2020.1 in /home/ubuntu/.local/lib/python3.8/site-packages (from pandas) (2023.3)\n",
      "Requirement already satisfied: six>=1.5 in /usr/lib/python3/dist-packages (from python-dateutil>=2.8.2->pandas) (1.14.0)\n",
      "Note: you may need to restart the kernel to use updated packages.\n"
     ]
    }
   ],
   "source": [
    "pip install pandas"
   ]
  },
  {
   "cell_type": "code",
   "execution_count": 4,
   "metadata": {},
   "outputs": [
    {
     "name": "stdout",
     "output_type": "stream",
     "text": [
      "Requirement already satisfied: numpy in /home/ubuntu/.local/lib/python3.8/site-packages (1.23.5)\n",
      "Note: you may need to restart the kernel to use updated packages.\n"
     ]
    }
   ],
   "source": [
    "pip install numpy"
   ]
  },
  {
   "cell_type": "code",
   "execution_count": 5,
   "metadata": {},
   "outputs": [],
   "source": [
    "import numpy as np"
   ]
  },
  {
   "cell_type": "code",
   "execution_count": 6,
   "metadata": {},
   "outputs": [
    {
     "data": {
      "text/plain": [
       "<Axes: xlabel='Month'>"
      ]
     },
     "execution_count": 6,
     "metadata": {},
     "output_type": "execute_result"
    },
    {
     "data": {
      "image/png": "[encoded data removed]",
      "text/plain": [
       "<Figure size 640x480 with 1 Axes>"
      ]
     },
     "metadata": {},
     "output_type": "display_data"
    }
   ],
   "source": [
    "import pandas as pd\n",
    "import matplotlib.pyplot as plt \n",
    "\n",
    "df = pd.read_csv(\"AirPassengers.csv\")\n",
    "\n",
    "df.plot(x='Month', y ='#Passengers')"
   ]
  },
  {
   "cell_type": "code",
   "execution_count": 7,
   "metadata": {},
   "outputs": [
    {
     "name": "stderr",
     "output_type": "stream",
     "text": [
      "2023-06-14 12:39:57.616597: I tensorflow/tsl/cuda/cudart_stub.cc:28] Could not find cuda drivers on your machine, GPU will not be used.\n",
      "2023-06-14 12:39:57.681409: I tensorflow/tsl/cuda/cudart_stub.cc:28] Could not find cuda drivers on your machine, GPU will not be used.\n",
      "2023-06-14 12:39:57.693284: I tensorflow/core/platform/cpu_feature_guard.cc:182] This TensorFlow binary is optimized to use available CPU instructions in performance-critical operations.\n",
      "To enable the following instructions: AVX2 FMA, in other operations, rebuild TensorFlow with the appropriate compiler flags.\n",
      "2023-06-14 12:39:59.274418: W tensorflow/compiler/tf2tensorrt/utils/py_utils.cc:38] TF-TRT Warning: Could not find TensorRT\n"
     ]
    }
   ],
   "source": [
    "import math\n",
    "import matplotlib.pyplot as plt\n",
    "import keras\n",
    "import pandas as pd\n",
    "import numpy as np\n",
    "from keras.models import Sequential\n",
    "from keras.layers import Dense\n",
    "from keras.layers import LSTM\n",
    "from keras.layers import Dropout\n",
    "from keras.layers import *\n",
    "from sklearn.preprocessing import MinMaxScaler\n",
    "from sklearn.metrics import mean_squared_error\n",
    "from sklearn.metrics import mean_absolute_error\n",
    "from sklearn.model_selection import train_test_split\n",
    "from keras.callbacks import EarlyStopping"
   ]
  },
  {
   "cell_type": "code",
   "execution_count": 8,
   "metadata": {},
   "outputs": [],
   "source": [
    "from numpy import array\n",
    "\n",
    "# split a univariate sequence into samples\n",
    "def split_sequence(sequence, n_steps):\n",
    "\tX, y = list(), list()\n",
    "\tfor i in range(len(sequence)):\n",
    "\t\t# find the end of this pattern\n",
    "\t\tend_ix = i + n_steps\n",
    "\t\t# check if we are beyond the sequence\n",
    "\t\tif end_ix > len(sequence)-1:\n",
    "\t\t\tbreak\n",
    "\t\t# gather input and output parts of the pattern\n",
    "\t\tseq_x, seq_y = sequence[i:end_ix], sequence[end_ix]\n",
    "\t\tX.append(seq_x)\n",
    "\t\ty.append(seq_y)\n",
    "\treturn array(X), array(y)"
   ]
  },
  {
   "cell_type": "code",
   "execution_count": 9,
   "metadata": {},
   "outputs": [],
   "source": [
    "training_set = df.iloc[:115, 1:2].values\n",
    "test_set = df.iloc[29:, 1:2].values"
   ]
  },
  {
   "cell_type": "code",
   "execution_count": 10,
   "metadata": {},
   "outputs": [],
   "source": [
    "training_set = df.iloc[:115, 1:2].values\n",
    "test_set = df.iloc[:29, 1:2].values"
   ]
  },
  {
   "cell_type": "code",
   "execution_count": 11,
   "metadata": {},
   "outputs": [],
   "source": [
    "# Feature Scaling\n",
    "sc = MinMaxScaler(feature_range = (0, 1))\n",
    "training_set_scaled = sc.fit_transform(training_set)\n",
    "# Creating a data structure with 60 time-steps and 1 output\n",
    "X_train = []\n",
    "y_train = []\n",
    "x = 5\n",
    "for i in range(x, 115):\n",
    "    X_train.append(training_set_scaled[i-x:i, 0])\n",
    "    y_train.append(training_set_scaled[i, 0])\n",
    "X_train, y_train = np.array(X_train), np.array(y_train)\n",
    "X_train = np.reshape(X_train, (X_train.shape[0], X_train.shape[1], 1))\n",
    "#(740, 60, 1)"
   ]
  },
  {
   "cell_type": "code",
   "execution_count": 12,
   "metadata": {},
   "outputs": [
    {
     "data": {
      "text/plain": [
       "(110,)"
      ]
     },
     "execution_count": 12,
     "metadata": {},
     "output_type": "execute_result"
    }
   ],
   "source": [
    "y_train.shape"
   ]
  },
  {
   "cell_type": "code",
   "execution_count": 13,
   "metadata": {},
   "outputs": [],
   "source": [
    "xtrainbaru = np.reshape(X_train, (110, 5))"
   ]
  },
  {
   "cell_type": "code",
   "execution_count": 14,
   "metadata": {},
   "outputs": [
    {
     "data": {
      "text/plain": [
       "array([[0.02067183, 0.03617571, 0.07235142, 0.06459948, 0.04392765],\n",
       "       [0.03617571, 0.07235142, 0.06459948, 0.04392765, 0.08010336],\n",
       "       [0.07235142, 0.06459948, 0.04392765, 0.08010336, 0.11369509],\n",
       "       [0.06459948, 0.04392765, 0.08010336, 0.11369509, 0.11369509],\n",
       "       [0.04392765, 0.08010336, 0.11369509, 0.11369509, 0.08268734],\n",
       "       [0.08010336, 0.11369509, 0.11369509, 0.08268734, 0.03875969],\n",
       "       [0.11369509, 0.11369509, 0.08268734, 0.03875969, 0.        ],\n",
       "       [0.11369509, 0.08268734, 0.03875969, 0.        , 0.03617571],\n",
       "       [0.08268734, 0.03875969, 0.        , 0.03617571, 0.02842377],\n",
       "       [0.03875969, 0.        , 0.03617571, 0.02842377, 0.05684755],\n",
       "       [0.        , 0.03617571, 0.02842377, 0.05684755, 0.09560724],\n",
       "       [0.03617571, 0.02842377, 0.05684755, 0.09560724, 0.08010336],\n",
       "       [0.02842377, 0.05684755, 0.09560724, 0.08010336, 0.05426357],\n",
       "       [0.05684755, 0.09560724, 0.08010336, 0.05426357, 0.11627907],\n",
       "       [0.09560724, 0.08010336, 0.05426357, 0.11627907, 0.17054264],\n",
       "       [0.08010336, 0.05426357, 0.11627907, 0.17054264, 0.17054264],\n",
       "       [0.05426357, 0.11627907, 0.17054264, 0.17054264, 0.13953488],\n",
       "       [0.11627907, 0.17054264, 0.17054264, 0.13953488, 0.0749354 ],\n",
       "       [0.17054264, 0.17054264, 0.13953488, 0.0749354 , 0.02583979],\n",
       "       [0.17054264, 0.13953488, 0.0749354 , 0.02583979, 0.09302326],\n",
       "       [0.13953488, 0.0749354 , 0.02583979, 0.09302326, 0.10594315],\n",
       "       [0.0749354 , 0.02583979, 0.09302326, 0.10594315, 0.11886305],\n",
       "       [0.02583979, 0.09302326, 0.10594315, 0.11886305, 0.19121447],\n",
       "       [0.09302326, 0.10594315, 0.11886305, 0.19121447, 0.15245478],\n",
       "       [0.10594315, 0.11886305, 0.19121447, 0.15245478, 0.17571059],\n",
       "       [0.11886305, 0.19121447, 0.15245478, 0.17571059, 0.19121447],\n",
       "       [0.19121447, 0.15245478, 0.17571059, 0.19121447, 0.24547804],\n",
       "       [0.15245478, 0.17571059, 0.19121447, 0.24547804, 0.24547804],\n",
       "       [0.17571059, 0.19121447, 0.24547804, 0.24547804, 0.20671835],\n",
       "       [0.19121447, 0.24547804, 0.24547804, 0.20671835, 0.1498708 ],\n",
       "       [0.24547804, 0.24547804, 0.20671835, 0.1498708 , 0.10852713],\n",
       "       [0.24547804, 0.20671835, 0.1498708 , 0.10852713, 0.16020672],\n",
       "       [0.20671835, 0.1498708 , 0.10852713, 0.16020672, 0.17312661],\n",
       "       [0.1498708 , 0.10852713, 0.16020672, 0.17312661, 0.19638243],\n",
       "       [0.10852713, 0.16020672, 0.17312661, 0.19638243, 0.22997416],\n",
       "       [0.16020672, 0.17312661, 0.19638243, 0.22997416, 0.19896641],\n",
       "       [0.17312661, 0.19638243, 0.22997416, 0.19896641, 0.20413437],\n",
       "       [0.19638243, 0.22997416, 0.19896641, 0.20413437, 0.29457364],\n",
       "       [0.22997416, 0.19896641, 0.20413437, 0.29457364, 0.3255814 ],\n",
       "       [0.19896641, 0.20413437, 0.29457364, 0.3255814 , 0.35658915],\n",
       "       [0.20413437, 0.29457364, 0.3255814 , 0.35658915, 0.27131783],\n",
       "       [0.29457364, 0.3255814 , 0.35658915, 0.27131783, 0.2248062 ],\n",
       "       [0.3255814 , 0.35658915, 0.27131783, 0.2248062 , 0.17571059],\n",
       "       [0.35658915, 0.27131783, 0.2248062 , 0.17571059, 0.23255814],\n",
       "       [0.27131783, 0.2248062 , 0.17571059, 0.23255814, 0.2377261 ],\n",
       "       [0.2248062 , 0.17571059, 0.23255814, 0.2377261 , 0.2377261 ],\n",
       "       [0.17571059, 0.23255814, 0.2377261 , 0.2377261 , 0.34108527],\n",
       "       [0.23255814, 0.2377261 , 0.2377261 , 0.34108527, 0.33850129],\n",
       "       [0.2377261 , 0.2377261 , 0.34108527, 0.33850129, 0.32299742],\n",
       "       [0.2377261 , 0.34108527, 0.33850129, 0.32299742, 0.35917313],\n",
       "       [0.34108527, 0.33850129, 0.32299742, 0.35917313, 0.41343669],\n",
       "       [0.33850129, 0.32299742, 0.35917313, 0.41343669, 0.43410853],\n",
       "       [0.32299742, 0.35917313, 0.41343669, 0.43410853, 0.34366925],\n",
       "       [0.35917313, 0.41343669, 0.43410853, 0.34366925, 0.27648579],\n",
       "       [0.41343669, 0.43410853, 0.34366925, 0.27648579, 0.19638243],\n",
       "       [0.43410853, 0.34366925, 0.27648579, 0.19638243, 0.25064599],\n",
       "       [0.34366925, 0.27648579, 0.19638243, 0.25064599, 0.25839793],\n",
       "       [0.27648579, 0.19638243, 0.25064599, 0.25839793, 0.21705426],\n",
       "       [0.19638243, 0.25064599, 0.25839793, 0.21705426, 0.33850129],\n",
       "       [0.25064599, 0.25839793, 0.21705426, 0.33850129, 0.31782946],\n",
       "       [0.25839793, 0.21705426, 0.33850129, 0.31782946, 0.33591731],\n",
       "       [0.21705426, 0.33850129, 0.31782946, 0.33591731, 0.41343669],\n",
       "       [0.33850129, 0.31782946, 0.33591731, 0.41343669, 0.51162791],\n",
       "       [0.31782946, 0.33591731, 0.41343669, 0.51162791, 0.48837209],\n",
       "       [0.33591731, 0.41343669, 0.51162791, 0.48837209, 0.4005168 ],\n",
       "       [0.41343669, 0.51162791, 0.48837209, 0.4005168 , 0.32299742],\n",
       "       [0.51162791, 0.48837209, 0.4005168 , 0.32299742, 0.25581395],\n",
       "       [0.48837209, 0.4005168 , 0.32299742, 0.25581395, 0.32299742],\n",
       "       [0.4005168 , 0.32299742, 0.25581395, 0.32299742, 0.35658915],\n",
       "       [0.32299742, 0.25581395, 0.32299742, 0.35658915, 0.33333333],\n",
       "       [0.25581395, 0.32299742, 0.35658915, 0.33333333, 0.42118863],\n",
       "       [0.32299742, 0.35658915, 0.33333333, 0.42118863, 0.42635659],\n",
       "       [0.35658915, 0.33333333, 0.42118863, 0.42635659, 0.42894057],\n",
       "       [0.33333333, 0.42118863, 0.42635659, 0.42894057, 0.54521964],\n",
       "       [0.42118863, 0.42635659, 0.42894057, 0.54521964, 0.67183463],\n",
       "       [0.42635659, 0.42894057, 0.54521964, 0.67183463, 0.62790698],\n",
       "       [0.42894057, 0.54521964, 0.67183463, 0.62790698, 0.5374677 ],\n",
       "       [0.54521964, 0.67183463, 0.62790698, 0.5374677 , 0.43927649],\n",
       "       [0.67183463, 0.62790698, 0.5374677 , 0.43927649, 0.34366925],\n",
       "       [0.62790698, 0.5374677 , 0.43927649, 0.34366925, 0.4496124 ],\n",
       "       [0.5374677 , 0.43927649, 0.34366925, 0.4496124 , 0.46511628],\n",
       "       [0.43927649, 0.34366925, 0.4496124 , 0.46511628, 0.44702842],\n",
       "       [0.34366925, 0.4496124 , 0.46511628, 0.44702842, 0.5503876 ],\n",
       "       [0.4496124 , 0.46511628, 0.44702842, 0.5503876 , 0.54005168],\n",
       "       [0.46511628, 0.44702842, 0.5503876 , 0.54005168, 0.55297158],\n",
       "       [0.44702842, 0.5503876 , 0.54005168, 0.55297158, 0.69767442],\n",
       "       [0.5503876 , 0.54005168, 0.55297158, 0.69767442, 0.79844961],\n",
       "       [0.54005168, 0.55297158, 0.69767442, 0.79844961, 0.77777778],\n",
       "       [0.55297158, 0.69767442, 0.79844961, 0.77777778, 0.64857881],\n",
       "       [0.69767442, 0.79844961, 0.77777778, 0.64857881, 0.52196382],\n",
       "       [0.79844961, 0.77777778, 0.64857881, 0.52196382, 0.43152455],\n",
       "       [0.77777778, 0.64857881, 0.52196382, 0.43152455, 0.52196382],\n",
       "       [0.64857881, 0.52196382, 0.43152455, 0.52196382, 0.54521964],\n",
       "       [0.52196382, 0.43152455, 0.52196382, 0.54521964, 0.50904393],\n",
       "       [0.43152455, 0.52196382, 0.54521964, 0.50904393, 0.65116279],\n",
       "       [0.52196382, 0.54521964, 0.50904393, 0.65116279, 0.63049096],\n",
       "       [0.54521964, 0.50904393, 0.65116279, 0.63049096, 0.64857881],\n",
       "       [0.50904393, 0.65116279, 0.63049096, 0.64857881, 0.82170543],\n",
       "       [0.65116279, 0.63049096, 0.64857881, 0.82170543, 0.93281654],\n",
       "       [0.63049096, 0.64857881, 0.82170543, 0.93281654, 0.9379845 ],\n",
       "       [0.64857881, 0.82170543, 0.93281654, 0.9379845 , 0.7751938 ],\n",
       "       [0.82170543, 0.93281654, 0.9379845 , 0.7751938 , 0.62790698],\n",
       "       [0.93281654, 0.9379845 , 0.7751938 , 0.62790698, 0.51937984],\n",
       "       [0.9379845 , 0.7751938 , 0.62790698, 0.51937984, 0.5994832 ],\n",
       "       [0.7751938 , 0.62790698, 0.51937984, 0.5994832 , 0.60981912],\n",
       "       [0.62790698, 0.51937984, 0.5994832 , 0.60981912, 0.55297158],\n",
       "       [0.51937984, 0.5994832 , 0.60981912, 0.55297158, 0.66666667],\n",
       "       [0.5994832 , 0.60981912, 0.55297158, 0.66666667, 0.63049096],\n",
       "       [0.60981912, 0.55297158, 0.66666667, 0.63049096, 0.66925065],\n",
       "       [0.55297158, 0.66666667, 0.63049096, 0.66925065, 0.85529716]])"
      ]
     },
     "execution_count": 14,
     "metadata": {},
     "output_type": "execute_result"
    }
   ],
   "source": [
    "xtrainbaru"
   ]
  },
  {
   "cell_type": "code",
   "execution_count": 15,
   "metadata": {},
   "outputs": [],
   "source": [
    "\n",
    "from sklearn.neighbors import KNeighborsRegressor\n",
    "neigh = KNeighborsRegressor(n_neighbors=3)\n",
    "modelknn=neigh.fit(xtrainbaru, y_train)"
   ]
  },
  {
   "cell_type": "code",
   "execution_count": 16,
   "metadata": {},
   "outputs": [],
   "source": [
    "# Definisikan dataset_train dan dataset_test\n",
    "dataset_train = df.iloc[:115, 1:2]  # Menggunakan 45 baris pertama sebagai data latihan\n",
    "dataset_test = df.iloc[29:, 1:2]  # Menggunakan baris setelah 45 sebagai data uji\n",
    "\n",
    "# Menggabungkan dataset_train dan dataset_test\n",
    "dataset_total = pd.concat([dataset_train, dataset_test], axis=0)\n",
    "\n",
    "# Mengambil input dari dataset_total\n",
    "inputs = dataset_total[len(dataset_total) - len(dataset_test) - 5:].values"
   ]
  },
  {
   "cell_type": "code",
   "execution_count": 17,
   "metadata": {},
   "outputs": [],
   "source": [
    "inputs = inputs.reshape(-1,1)\n"
   ]
  },
  {
   "cell_type": "code",
   "execution_count": 18,
   "metadata": {},
   "outputs": [
    {
     "name": "stdout",
     "output_type": "stream",
     "text": [
      "(19, 5, 1)\n"
     ]
    }
   ],
   "source": [
    "inputs =sc.fit_transform(inputs)\n",
    "X_test = []\n",
    "for i in range(5, 24):\n",
    "    X_test.append(inputs[i-5:i, 0])\n",
    "X_test = np.array(X_test)\n",
    "X_test = np.reshape(X_test, (X_test.shape[0], X_test.shape[1], 1))\n",
    "print(X_test.shape)"
   ]
  },
  {
   "cell_type": "code",
   "execution_count": 19,
   "metadata": {},
   "outputs": [],
   "source": [
    "xtestbaru = np.reshape(X_test, (19, 5))"
   ]
  },
  {
   "cell_type": "code",
   "execution_count": 20,
   "metadata": {},
   "outputs": [],
   "source": [
    "predicted_pass = modelknn.predict(xtestbaru)\n",
    "\n",
    "predicted_pass = predicted_pass.reshape(-1,1)\n",
    "prediksi= sc.inverse_transform(predicted_pass)\n",
    "dataset_test=dataset_test.iloc[0:19]"
   ]
  },
  {
   "cell_type": "code",
   "execution_count": 21,
   "metadata": {},
   "outputs": [
    {
     "data": {
      "text/plain": [
       "0.23976233632103833"
      ]
     },
     "execution_count": 21,
     "metadata": {},
     "output_type": "execute_result"
    }
   ],
   "source": [
    "from sklearn.metrics import mean_absolute_percentage_error\n",
    "\n",
    "mean_absolute_percentage_error(dataset_test, prediksi)"
   ]
  },
  {
   "cell_type": "code",
   "execution_count": 22,
   "metadata": {},
   "outputs": [],
   "source": [
    "# Mengubah dataset_test menjadi array NumPy\n",
    "dataset_test = dataset_test.to_numpy()"
   ]
  },
  {
   "cell_type": "code",
   "execution_count": 23,
   "metadata": {},
   "outputs": [
    {
     "data": {
      "image/png": "[encoded data removed]",
      "text/plain": [
       "<Figure size 640x480 with 1 Axes>"
      ]
     },
     "metadata": {},
     "output_type": "display_data"
    }
   ],
   "source": [
    "import matplotlib.pyplot as plt\n",
    "plt.plot(dataset_test,label = 'Data Real')\n",
    "plt.plot(prediksi,label = 'Data prediksi')\n",
    "plt.xticks(np.arange(0,19,1))\n",
    "plt.title('Prediksi penumpang')\n",
    "plt.xlabel('Mounth')\n",
    "plt.ylabel('#Passengers')\n",
    "plt.legend()\n",
    "plt.show()\n",
    "\n",
    "plt.show()"
   ]
  },
  {
   "cell_type": "code",
   "execution_count": 24,
   "metadata": {},
   "outputs": [
    {
     "ename": "ValueError",
     "evalue": "Unknown label type: (array([0.        , 0.02583979, 0.02842377, 0.03617571, 0.03875969,\n       0.05426357, 0.05684755, 0.0749354 , 0.08010336, 0.08268734,\n       0.09302326, 0.09560724, 0.10594315, 0.10852713, 0.11369509,\n       0.11627907, 0.11886305, 0.13953488, 0.1498708 , 0.15245478,\n       0.16020672, 0.17054264, 0.17312661, 0.17571059, 0.19121447,\n       0.19638243, 0.19896641, 0.20413437, 0.20671835, 0.21705426,\n       0.2248062 , 0.22997416, 0.23255814, 0.2377261 , 0.24547804,\n       0.25064599, 0.25581395, 0.25839793, 0.27131783, 0.27648579,\n       0.29457364, 0.31782946, 0.32299742, 0.3255814 , 0.33333333,\n       0.33591731, 0.33850129, 0.34108527, 0.34366925, 0.35658915,\n       0.35917313, 0.4005168 , 0.41343669, 0.42118863, 0.42635659,\n       0.42894057, 0.43152455, 0.43410853, 0.43927649, 0.44702842,\n       0.4496124 , 0.46511628, 0.48837209, 0.50904393, 0.51162791,\n       0.51937984, 0.52196382, 0.5374677 , 0.54005168, 0.54521964,\n       0.5503876 , 0.55297158, 0.5994832 , 0.60981912, 0.62790698,\n       0.63049096, 0.64857881, 0.65116279, 0.66666667, 0.66925065,\n       0.67183463, 0.69767442, 0.7751938 , 0.77777778, 0.79844961,\n       0.82170543, 0.85529716, 0.93281654, 0.9379845 , 1.        ]),)",
     "output_type": "error",
     "traceback": [
      "\u001b[0;31m---------------------------------------------------------------------------\u001b[0m",
      "\u001b[0;31mValueError\u001b[0m                                Traceback (most recent call last)",
      "Cell \u001b[0;32mIn[24], line 8\u001b[0m\n\u001b[1;32m      5\u001b[0m model \u001b[38;5;241m=\u001b[39m GaussianNB()\n\u001b[1;32m      7\u001b[0m \u001b[38;5;66;03m# Fit the model on the training data\u001b[39;00m\n\u001b[0;32m----> 8\u001b[0m \u001b[43mmodel\u001b[49m\u001b[38;5;241;43m.\u001b[39;49m\u001b[43mfit\u001b[49m\u001b[43m(\u001b[49m\u001b[43mX_train\u001b[49m\u001b[43m,\u001b[49m\u001b[43m \u001b[49m\u001b[43my_train\u001b[49m\u001b[43m)\u001b[49m\n\u001b[1;32m     10\u001b[0m \u001b[38;5;66;03m# Predict the test data\u001b[39;00m\n\u001b[1;32m     11\u001b[0m y_pred \u001b[38;5;241m=\u001b[39m model\u001b[38;5;241m.\u001b[39mpredict(X_test)\n",
      "File \u001b[0;32m~/.local/lib/python3.8/site-packages/sklearn/naive_bayes.py:267\u001b[0m, in \u001b[0;36mGaussianNB.fit\u001b[0;34m(self, X, y, sample_weight)\u001b[0m\n\u001b[1;32m    <a href='file:///home/ubuntu/.local/lib/python3.8/site-packages/sklearn/naive_bayes.py?line=264'>265</a>\u001b[0m \u001b[39mself\u001b[39m\u001b[39m.\u001b[39m_validate_params()\n\u001b[1;32m    <a href='file:///home/ubuntu/.local/lib/python3.8/site-packages/sklearn/naive_bayes.py?line=265'>266</a>\u001b[0m y \u001b[39m=\u001b[39m \u001b[39mself\u001b[39m\u001b[39m.\u001b[39m_validate_data(y\u001b[39m=\u001b[39my)\n\u001b[0;32m--> <a href='file:///home/ubuntu/.local/lib/python3.8/site-packages/sklearn/naive_bayes.py?line=266'>267</a>\u001b[0m \u001b[39mreturn\u001b[39;00m \u001b[39mself\u001b[39;49m\u001b[39m.\u001b[39;49m_partial_fit(\n\u001b[1;32m    <a href='file:///home/ubuntu/.local/lib/python3.8/site-packages/sklearn/naive_bayes.py?line=267'>268</a>\u001b[0m     X, y, np\u001b[39m.\u001b[39;49munique(y), _refit\u001b[39m=\u001b[39;49m\u001b[39mTrue\u001b[39;49;00m, sample_weight\u001b[39m=\u001b[39;49msample_weight\n\u001b[1;32m    <a href='file:///home/ubuntu/.local/lib/python3.8/site-packages/sklearn/naive_bayes.py?line=268'>269</a>\u001b[0m )\n",
      "File \u001b[0;32m~/.local/lib/python3.8/site-packages/sklearn/naive_bayes.py:427\u001b[0m, in \u001b[0;36mGaussianNB._partial_fit\u001b[0;34m(self, X, y, classes, _refit, sample_weight)\u001b[0m\n\u001b[1;32m    <a href='file:///home/ubuntu/.local/lib/python3.8/site-packages/sklearn/naive_bayes.py?line=423'>424</a>\u001b[0m \u001b[39mif\u001b[39;00m _refit:\n\u001b[1;32m    <a href='file:///home/ubuntu/.local/lib/python3.8/site-packages/sklearn/naive_bayes.py?line=424'>425</a>\u001b[0m     \u001b[39mself\u001b[39m\u001b[39m.\u001b[39mclasses_ \u001b[39m=\u001b[39m \u001b[39mNone\u001b[39;00m\n\u001b[0;32m--> <a href='file:///home/ubuntu/.local/lib/python3.8/site-packages/sklearn/naive_bayes.py?line=426'>427</a>\u001b[0m first_call \u001b[39m=\u001b[39m _check_partial_fit_first_call(\u001b[39mself\u001b[39;49m, classes)\n\u001b[1;32m    <a href='file:///home/ubuntu/.local/lib/python3.8/site-packages/sklearn/naive_bayes.py?line=427'>428</a>\u001b[0m X, y \u001b[39m=\u001b[39m \u001b[39mself\u001b[39m\u001b[39m.\u001b[39m_validate_data(X, y, reset\u001b[39m=\u001b[39mfirst_call)\n\u001b[1;32m    <a href='file:///home/ubuntu/.local/lib/python3.8/site-packages/sklearn/naive_bayes.py?line=428'>429</a>\u001b[0m \u001b[39mif\u001b[39;00m sample_weight \u001b[39mis\u001b[39;00m \u001b[39mnot\u001b[39;00m \u001b[39mNone\u001b[39;00m:\n",
      "File \u001b[0;32m~/.local/lib/python3.8/site-packages/sklearn/utils/multiclass.py:420\u001b[0m, in \u001b[0;36m_check_partial_fit_first_call\u001b[0;34m(clf, classes)\u001b[0m\n\u001b[1;32m    <a href='file:///home/ubuntu/.local/lib/python3.8/site-packages/sklearn/utils/multiclass.py?line=412'>413</a>\u001b[0m             \u001b[39mraise\u001b[39;00m \u001b[39mValueError\u001b[39;00m(\n\u001b[1;32m    <a href='file:///home/ubuntu/.local/lib/python3.8/site-packages/sklearn/utils/multiclass.py?line=413'>414</a>\u001b[0m                 \u001b[39m\"\u001b[39m\u001b[39m`classes=\u001b[39m\u001b[39m%r\u001b[39;00m\u001b[39m` is not the same as on last call \u001b[39m\u001b[39m\"\u001b[39m\n\u001b[1;32m    <a href='file:///home/ubuntu/.local/lib/python3.8/site-packages/sklearn/utils/multiclass.py?line=414'>415</a>\u001b[0m                 \u001b[39m\"\u001b[39m\u001b[39mto partial_fit, was: \u001b[39m\u001b[39m%r\u001b[39;00m\u001b[39m\"\u001b[39m \u001b[39m%\u001b[39m (classes, clf\u001b[39m.\u001b[39mclasses_)\n\u001b[1;32m    <a href='file:///home/ubuntu/.local/lib/python3.8/site-packages/sklearn/utils/multiclass.py?line=415'>416</a>\u001b[0m             )\n\u001b[1;32m    <a href='file:///home/ubuntu/.local/lib/python3.8/site-packages/sklearn/utils/multiclass.py?line=417'>418</a>\u001b[0m     \u001b[39melse\u001b[39;00m:\n\u001b[1;32m    <a href='file:///home/ubuntu/.local/lib/python3.8/site-packages/sklearn/utils/multiclass.py?line=418'>419</a>\u001b[0m         \u001b[39m# This is the first call to partial_fit\u001b[39;00m\n\u001b[0;32m--> <a href='file:///home/ubuntu/.local/lib/python3.8/site-packages/sklearn/utils/multiclass.py?line=419'>420</a>\u001b[0m         clf\u001b[39m.\u001b[39mclasses_ \u001b[39m=\u001b[39m unique_labels(classes)\n\u001b[1;32m    <a href='file:///home/ubuntu/.local/lib/python3.8/site-packages/sklearn/utils/multiclass.py?line=420'>421</a>\u001b[0m         \u001b[39mreturn\u001b[39;00m \u001b[39mTrue\u001b[39;00m\n\u001b[1;32m    <a href='file:///home/ubuntu/.local/lib/python3.8/site-packages/sklearn/utils/multiclass.py?line=422'>423</a>\u001b[0m \u001b[39m# classes is None and clf.classes_ has already previously been set:\u001b[39;00m\n\u001b[1;32m    <a href='file:///home/ubuntu/.local/lib/python3.8/site-packages/sklearn/utils/multiclass.py?line=423'>424</a>\u001b[0m \u001b[39m# nothing to do\u001b[39;00m\n",
      "File \u001b[0;32m~/.local/lib/python3.8/site-packages/sklearn/utils/multiclass.py:107\u001b[0m, in \u001b[0;36munique_labels\u001b[0;34m(*ys)\u001b[0m\n\u001b[1;32m    <a href='file:///home/ubuntu/.local/lib/python3.8/site-packages/sklearn/utils/multiclass.py?line=104'>105</a>\u001b[0m _unique_labels \u001b[39m=\u001b[39m _FN_UNIQUE_LABELS\u001b[39m.\u001b[39mget(label_type, \u001b[39mNone\u001b[39;00m)\n\u001b[1;32m    <a href='file:///home/ubuntu/.local/lib/python3.8/site-packages/sklearn/utils/multiclass.py?line=105'>106</a>\u001b[0m \u001b[39mif\u001b[39;00m \u001b[39mnot\u001b[39;00m _unique_labels:\n\u001b[0;32m--> <a href='file:///home/ubuntu/.local/lib/python3.8/site-packages/sklearn/utils/multiclass.py?line=106'>107</a>\u001b[0m     \u001b[39mraise\u001b[39;00m \u001b[39mValueError\u001b[39;00m(\u001b[39m\"\u001b[39m\u001b[39mUnknown label type: \u001b[39m\u001b[39m%s\u001b[39;00m\u001b[39m\"\u001b[39m \u001b[39m%\u001b[39m \u001b[39mrepr\u001b[39m(ys))\n\u001b[1;32m    <a href='file:///home/ubuntu/.local/lib/python3.8/site-packages/sklearn/utils/multiclass.py?line=108'>109</a>\u001b[0m \u001b[39mif\u001b[39;00m is_array_api:\n\u001b[1;32m    <a href='file:///home/ubuntu/.local/lib/python3.8/site-packages/sklearn/utils/multiclass.py?line=109'>110</a>\u001b[0m     \u001b[39m# array_api does not allow for mixed dtypes\u001b[39;00m\n\u001b[1;32m    <a href='file:///home/ubuntu/.local/lib/python3.8/site-packages/sklearn/utils/multiclass.py?line=110'>111</a>\u001b[0m     unique_ys \u001b[39m=\u001b[39m xp\u001b[39m.\u001b[39mconcat([_unique_labels(y) \u001b[39mfor\u001b[39;00m y \u001b[39min\u001b[39;00m ys])\n",
      "\u001b[0;31mValueError\u001b[0m: Unknown label type: (array([0.        , 0.02583979, 0.02842377, 0.03617571, 0.03875969,\n       0.05426357, 0.05684755, 0.0749354 , 0.08010336, 0.08268734,\n       0.09302326, 0.09560724, 0.10594315, 0.10852713, 0.11369509,\n       0.11627907, 0.11886305, 0.13953488, 0.1498708 , 0.15245478,\n       0.16020672, 0.17054264, 0.17312661, 0.17571059, 0.19121447,\n       0.19638243, 0.19896641, 0.20413437, 0.20671835, 0.21705426,\n       0.2248062 , 0.22997416, 0.23255814, 0.2377261 , 0.24547804,\n       0.25064599, 0.25581395, 0.25839793, 0.27131783, 0.27648579,\n       0.29457364, 0.31782946, 0.32299742, 0.3255814 , 0.33333333,\n       0.33591731, 0.33850129, 0.34108527, 0.34366925, 0.35658915,\n       0.35917313, 0.4005168 , 0.41343669, 0.42118863, 0.42635659,\n       0.42894057, 0.43152455, 0.43410853, 0.43927649, 0.44702842,\n       0.4496124 , 0.46511628, 0.48837209, 0.50904393, 0.51162791,\n       0.51937984, 0.52196382, 0.5374677 , 0.54005168, 0.54521964,\n       0.5503876 , 0.55297158, 0.5994832 , 0.60981912, 0.62790698,\n       0.63049096, 0.64857881, 0.65116279, 0.66666667, 0.66925065,\n       0.67183463, 0.69767442, 0.7751938 , 0.77777778, 0.79844961,\n       0.82170543, 0.85529716, 0.93281654, 0.9379845 , 1.        ]),)"
     ]
    }
   ],
   "source": [
    "from sklearn.naive_bayes import GaussianNB\n",
    "\n",
    "\n",
    "# Create a Naive Bayes model\n",
    "model = GaussianNB()\n",
    "\n",
    "# Fit the model on the training data\n",
    "model.fit(X_train, y_train)\n",
    "\n",
    "# Predict the test data\n",
    "y_pred = model.predict(X_test)\n"
   ]
  }
 ],
 "metadata": {
  "language_info": {
   "name": "python"
  },
  "orig_nbformat": 4
 },
 "nbformat": 4,
 "nbformat_minor": 2
}
