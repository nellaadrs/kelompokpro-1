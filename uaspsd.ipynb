{
  "cells": [
    {
      "cell_type": "markdown",
      "metadata": {
        "id": "view-in-github",
        "colab_type": "text"
      },
      "source": [
        "<a href=\"https://colab.research.google.com/github/nellaadrs/kelompokpro-1/blob/main/uaspsd.ipynb\" target=\"_parent\"><img src=\"https://colab.research.google.com/assets/colab-badge.svg\" alt=\"Open In Colab\"/></a>"
      ]
    },
    {
      "cell_type": "markdown",
      "metadata": {
        "id": "-soM8x1D5DeW"
      },
      "source": [
        "Isnain Faiziah (200411100007)\n",
        "\n",
        "Nella Adrisia Hartono (200411100107)"
      ]
    },
    {
      "cell_type": "code",
      "execution_count": 1,
      "metadata": {
        "colab": {
          "base_uri": "https://localhost:8080/"
        },
        "id": "NwuKqJMlgr3-",
        "outputId": "dcea534b-a0f8-430e-f97c-071dd4761da3"
      },
      "outputs": [
        {
          "output_type": "stream",
          "name": "stdout",
          "text": [
            "Looking in indexes: https://pypi.org/simple, https://us-python.pkg.dev/colab-wheels/public/simple/\n",
            "Requirement already satisfied: pandas in /usr/local/lib/python3.10/dist-packages (1.5.3)\n",
            "Requirement already satisfied: python-dateutil>=2.8.1 in /usr/local/lib/python3.10/dist-packages (from pandas) (2.8.2)\n",
            "Requirement already satisfied: pytz>=2020.1 in /usr/local/lib/python3.10/dist-packages (from pandas) (2022.7.1)\n",
            "Requirement already satisfied: numpy>=1.21.0 in /usr/local/lib/python3.10/dist-packages (from pandas) (1.22.4)\n",
            "Requirement already satisfied: six>=1.5 in /usr/local/lib/python3.10/dist-packages (from python-dateutil>=2.8.1->pandas) (1.16.0)\n",
            "Looking in indexes: https://pypi.org/simple, https://us-python.pkg.dev/colab-wheels/public/simple/\n",
            "Requirement already satisfied: numpy in /usr/local/lib/python3.10/dist-packages (1.22.4)\n"
          ]
        }
      ],
      "source": [
        "!pip install pandas\n",
        "!pip install numpy"
      ]
    },
    {
      "cell_type": "code",
      "execution_count": 2,
      "metadata": {
        "id": "PXLPKYZQkj0y"
      },
      "outputs": [],
      "source": [
        "import math\n",
        "import matplotlib.pyplot as plt\n",
        "import keras\n",
        "import pandas as pd\n",
        "import numpy as np\n",
        "from keras.models import Sequential\n",
        "from keras.layers import Dense\n",
        "from keras.layers import LSTM\n",
        "from keras.layers import Dropout\n",
        "from keras.layers import *\n",
        "from sklearn.preprocessing import MinMaxScaler\n",
        "from sklearn.metrics import mean_squared_error\n",
        "from sklearn.metrics import mean_absolute_error\n",
        "from sklearn.model_selection import train_test_split\n",
        "from keras.callbacks import EarlyStopping"
      ]
    },
    {
      "cell_type": "code",
      "execution_count": 3,
      "metadata": {
        "id": "PobWQ_9_g631"
      },
      "outputs": [],
      "source": [
        "import pandas as pd\n",
        "import numpy as np"
      ]
    },
    {
      "cell_type": "code",
      "execution_count": 4,
      "metadata": {
        "colab": {
          "base_uri": "https://localhost:8080/"
        },
        "id": "2F5GrSRsikNW",
        "outputId": "883eb13e-34eb-449d-e702-b03a617a4877"
      },
      "outputs": [
        {
          "output_type": "stream",
          "name": "stdout",
          "text": [
            "Mounted at /content/drive\n"
          ]
        }
      ],
      "source": [
        "from google.colab import drive\n",
        "drive.mount('/content/drive')"
      ]
    },
    {
      "cell_type": "code",
      "execution_count": 5,
      "metadata": {
        "colab": {
          "base_uri": "https://localhost:8080/",
          "height": 423
        },
        "id": "YLejOB7qg_WW",
        "outputId": "5344f46f-7f7a-47df-b68b-a4529fd71c81"
      },
      "outputs": [
        {
          "output_type": "execute_result",
          "data": {
            "text/plain": [
              "           Date    Open    High     Low   Close    Adj Close    Volume\n",
              "0    2022-06-15  6875.0  6975.0  6700.0  6900.0  6610.801758   9268400\n",
              "1    2022-06-16  6950.0  6975.0  6825.0  6900.0  6610.801758   9092600\n",
              "2    2022-06-17  6850.0  6900.0  6725.0  6825.0  6538.945313   6241400\n",
              "3    2022-06-20  6875.0  7125.0  6750.0  7100.0  6802.418945  11256500\n",
              "4    2022-06-21  7200.0  7250.0  7125.0  7150.0  6850.323730  12640500\n",
              "..          ...     ...     ...     ...     ...          ...       ...\n",
              "241  2023-06-07  5875.0  5900.0  5775.0  5850.0  5850.000000   8369100\n",
              "242  2023-06-08  5850.0  5900.0  5800.0  5875.0  5875.000000   6741600\n",
              "243  2023-06-09  5875.0  5950.0  5850.0  5925.0  5925.000000   5821700\n",
              "244  2023-06-12  5950.0  6050.0  5925.0  6050.0  6050.000000  11212000\n",
              "245  2023-06-13  6100.0  6100.0  6000.0  6000.0  6000.000000   8181800\n",
              "\n",
              "[246 rows x 7 columns]"
            ],
            "text/html": [
              "\n",
              "  <div id=\"df-875d2539-d59a-4226-bb11-3e120ffab73c\">\n",
              "    <div class=\"colab-df-container\">\n",
              "      <div>\n",
              "<style scoped>\n",
              "    .dataframe tbody tr th:only-of-type {\n",
              "        vertical-align: middle;\n",
              "    }\n",
              "\n",
              "    .dataframe tbody tr th {\n",
              "        vertical-align: top;\n",
              "    }\n",
              "\n",
              "    .dataframe thead th {\n",
              "        text-align: right;\n",
              "    }\n",
              "</style>\n",
              "<table border=\"1\" class=\"dataframe\">\n",
              "  <thead>\n",
              "    <tr style=\"text-align: right;\">\n",
              "      <th></th>\n",
              "      <th>Date</th>\n",
              "      <th>Open</th>\n",
              "      <th>High</th>\n",
              "      <th>Low</th>\n",
              "      <th>Close</th>\n",
              "      <th>Adj Close</th>\n",
              "      <th>Volume</th>\n",
              "    </tr>\n",
              "  </thead>\n",
              "  <tbody>\n",
              "    <tr>\n",
              "      <th>0</th>\n",
              "      <td>2022-06-15</td>\n",
              "      <td>6875.0</td>\n",
              "      <td>6975.0</td>\n",
              "      <td>6700.0</td>\n",
              "      <td>6900.0</td>\n",
              "      <td>6610.801758</td>\n",
              "      <td>9268400</td>\n",
              "    </tr>\n",
              "    <tr>\n",
              "      <th>1</th>\n",
              "      <td>2022-06-16</td>\n",
              "      <td>6950.0</td>\n",
              "      <td>6975.0</td>\n",
              "      <td>6825.0</td>\n",
              "      <td>6900.0</td>\n",
              "      <td>6610.801758</td>\n",
              "      <td>9092600</td>\n",
              "    </tr>\n",
              "    <tr>\n",
              "      <th>2</th>\n",
              "      <td>2022-06-17</td>\n",
              "      <td>6850.0</td>\n",
              "      <td>6900.0</td>\n",
              "      <td>6725.0</td>\n",
              "      <td>6825.0</td>\n",
              "      <td>6538.945313</td>\n",
              "      <td>6241400</td>\n",
              "    </tr>\n",
              "    <tr>\n",
              "      <th>3</th>\n",
              "      <td>2022-06-20</td>\n",
              "      <td>6875.0</td>\n",
              "      <td>7125.0</td>\n",
              "      <td>6750.0</td>\n",
              "      <td>7100.0</td>\n",
              "      <td>6802.418945</td>\n",
              "      <td>11256500</td>\n",
              "    </tr>\n",
              "    <tr>\n",
              "      <th>4</th>\n",
              "      <td>2022-06-21</td>\n",
              "      <td>7200.0</td>\n",
              "      <td>7250.0</td>\n",
              "      <td>7125.0</td>\n",
              "      <td>7150.0</td>\n",
              "      <td>6850.323730</td>\n",
              "      <td>12640500</td>\n",
              "    </tr>\n",
              "    <tr>\n",
              "      <th>...</th>\n",
              "      <td>...</td>\n",
              "      <td>...</td>\n",
              "      <td>...</td>\n",
              "      <td>...</td>\n",
              "      <td>...</td>\n",
              "      <td>...</td>\n",
              "      <td>...</td>\n",
              "    </tr>\n",
              "    <tr>\n",
              "      <th>241</th>\n",
              "      <td>2023-06-07</td>\n",
              "      <td>5875.0</td>\n",
              "      <td>5900.0</td>\n",
              "      <td>5775.0</td>\n",
              "      <td>5850.0</td>\n",
              "      <td>5850.000000</td>\n",
              "      <td>8369100</td>\n",
              "    </tr>\n",
              "    <tr>\n",
              "      <th>242</th>\n",
              "      <td>2023-06-08</td>\n",
              "      <td>5850.0</td>\n",
              "      <td>5900.0</td>\n",
              "      <td>5800.0</td>\n",
              "      <td>5875.0</td>\n",
              "      <td>5875.000000</td>\n",
              "      <td>6741600</td>\n",
              "    </tr>\n",
              "    <tr>\n",
              "      <th>243</th>\n",
              "      <td>2023-06-09</td>\n",
              "      <td>5875.0</td>\n",
              "      <td>5950.0</td>\n",
              "      <td>5850.0</td>\n",
              "      <td>5925.0</td>\n",
              "      <td>5925.000000</td>\n",
              "      <td>5821700</td>\n",
              "    </tr>\n",
              "    <tr>\n",
              "      <th>244</th>\n",
              "      <td>2023-06-12</td>\n",
              "      <td>5950.0</td>\n",
              "      <td>6050.0</td>\n",
              "      <td>5925.0</td>\n",
              "      <td>6050.0</td>\n",
              "      <td>6050.000000</td>\n",
              "      <td>11212000</td>\n",
              "    </tr>\n",
              "    <tr>\n",
              "      <th>245</th>\n",
              "      <td>2023-06-13</td>\n",
              "      <td>6100.0</td>\n",
              "      <td>6100.0</td>\n",
              "      <td>6000.0</td>\n",
              "      <td>6000.0</td>\n",
              "      <td>6000.000000</td>\n",
              "      <td>8181800</td>\n",
              "    </tr>\n",
              "  </tbody>\n",
              "</table>\n",
              "<p>246 rows × 7 columns</p>\n",
              "</div>\n",
              "      <button class=\"colab-df-convert\" onclick=\"convertToInteractive('df-875d2539-d59a-4226-bb11-3e120ffab73c')\"\n",
              "              title=\"Convert this dataframe to an interactive table.\"\n",
              "              style=\"display:none;\">\n",
              "        \n",
              "  <svg xmlns=\"http://www.w3.org/2000/svg\" height=\"24px\"viewBox=\"0 0 24 24\"\n",
              "       width=\"24px\">\n",
              "    <path d=\"M0 0h24v24H0V0z\" fill=\"none\"/>\n",
              "    <path d=\"M18.56 5.44l.94 2.06.94-2.06 2.06-.94-2.06-.94-.94-2.06-.94 2.06-2.06.94zm-11 1L8.5 8.5l.94-2.06 2.06-.94-2.06-.94L8.5 2.5l-.94 2.06-2.06.94zm10 10l.94 2.06.94-2.06 2.06-.94-2.06-.94-.94-2.06-.94 2.06-2.06.94z\"/><path d=\"M17.41 7.96l-1.37-1.37c-.4-.4-.92-.59-1.43-.59-.52 0-1.04.2-1.43.59L10.3 9.45l-7.72 7.72c-.78.78-.78 2.05 0 2.83L4 21.41c.39.39.9.59 1.41.59.51 0 1.02-.2 1.41-.59l7.78-7.78 2.81-2.81c.8-.78.8-2.07 0-2.86zM5.41 20L4 18.59l7.72-7.72 1.47 1.35L5.41 20z\"/>\n",
              "  </svg>\n",
              "      </button>\n",
              "      \n",
              "  <style>\n",
              "    .colab-df-container {\n",
              "      display:flex;\n",
              "      flex-wrap:wrap;\n",
              "      gap: 12px;\n",
              "    }\n",
              "\n",
              "    .colab-df-convert {\n",
              "      background-color: #E8F0FE;\n",
              "      border: none;\n",
              "      border-radius: 50%;\n",
              "      cursor: pointer;\n",
              "      display: none;\n",
              "      fill: #1967D2;\n",
              "      height: 32px;\n",
              "      padding: 0 0 0 0;\n",
              "      width: 32px;\n",
              "    }\n",
              "\n",
              "    .colab-df-convert:hover {\n",
              "      background-color: #E2EBFA;\n",
              "      box-shadow: 0px 1px 2px rgba(60, 64, 67, 0.3), 0px 1px 3px 1px rgba(60, 64, 67, 0.15);\n",
              "      fill: #174EA6;\n",
              "    }\n",
              "\n",
              "    [theme=dark] .colab-df-convert {\n",
              "      background-color: #3B4455;\n",
              "      fill: #D2E3FC;\n",
              "    }\n",
              "\n",
              "    [theme=dark] .colab-df-convert:hover {\n",
              "      background-color: #434B5C;\n",
              "      box-shadow: 0px 1px 3px 1px rgba(0, 0, 0, 0.15);\n",
              "      filter: drop-shadow(0px 1px 2px rgba(0, 0, 0, 0.3));\n",
              "      fill: #FFFFFF;\n",
              "    }\n",
              "  </style>\n",
              "\n",
              "      <script>\n",
              "        const buttonEl =\n",
              "          document.querySelector('#df-875d2539-d59a-4226-bb11-3e120ffab73c button.colab-df-convert');\n",
              "        buttonEl.style.display =\n",
              "          google.colab.kernel.accessAllowed ? 'block' : 'none';\n",
              "\n",
              "        async function convertToInteractive(key) {\n",
              "          const element = document.querySelector('#df-875d2539-d59a-4226-bb11-3e120ffab73c');\n",
              "          const dataTable =\n",
              "            await google.colab.kernel.invokeFunction('convertToInteractive',\n",
              "                                                     [key], {});\n",
              "          if (!dataTable) return;\n",
              "\n",
              "          const docLinkHtml = 'Like what you see? Visit the ' +\n",
              "            '<a target=\"_blank\" href=https://colab.research.google.com/notebooks/data_table.ipynb>data table notebook</a>'\n",
              "            + ' to learn more about interactive tables.';\n",
              "          element.innerHTML = '';\n",
              "          dataTable['output_type'] = 'display_data';\n",
              "          await google.colab.output.renderOutput(dataTable, element);\n",
              "          const docLink = document.createElement('div');\n",
              "          docLink.innerHTML = docLinkHtml;\n",
              "          element.appendChild(docLink);\n",
              "        }\n",
              "      </script>\n",
              "    </div>\n",
              "  </div>\n",
              "  "
            ]
          },
          "metadata": {},
          "execution_count": 5
        }
      ],
      "source": [
        "df = pd.read_csv(\"https://raw.githubusercontent.com/nellaadrs/kelompokpro-1/main/SMGR.JK.csv\")\n",
        "df"
      ]
    },
    {
      "cell_type": "code",
      "execution_count": 6,
      "metadata": {
        "colab": {
          "base_uri": "https://localhost:8080/"
        },
        "id": "Axhg55Q4pc-8",
        "outputId": "af25b3ab-e32e-41dc-9174-d45cd333928b"
      },
      "outputs": [
        {
          "output_type": "execute_result",
          "data": {
            "text/plain": [
              "Date         0\n",
              "Open         0\n",
              "High         0\n",
              "Low          0\n",
              "Close        0\n",
              "Adj Close    0\n",
              "Volume       0\n",
              "dtype: int64"
            ]
          },
          "metadata": {},
          "execution_count": 6
        }
      ],
      "source": [
        "df.isnull().sum()"
      ]
    },
    {
      "cell_type": "code",
      "execution_count": 7,
      "metadata": {
        "colab": {
          "base_uri": "https://localhost:8080/",
          "height": 482
        },
        "id": "BBPcDkmHh2yR",
        "outputId": "935f8095-5abe-47b2-ba1c-21f3f02633ff"
      },
      "outputs": [
        {
          "output_type": "execute_result",
          "data": {
            "text/plain": [
              "<Axes: xlabel='Date'>"
            ]
          },
          "metadata": {},
          "execution_count": 7
        },
        {
          "output_type": "display_data",
          "data": {
            "text/plain": [
              "<Figure size 640x480 with 1 Axes>"
            ],
            "image/png": "[encoded data removed]"
          },
          "metadata": {}
        }
      ],
      "source": [
        "df.plot(x='Date', y ='Volume')"
      ]
    },
    {
      "cell_type": "markdown",
      "source": [
        "### Split Data"
      ],
      "metadata": {
        "id": "YhUEoBsNoNYI"
      }
    },
    {
      "cell_type": "code",
      "execution_count": 8,
      "metadata": {
        "id": "H7v5grIzjl1n"
      },
      "outputs": [],
      "source": [
        "training_set = df.iloc[:197, 1:-1].values\n",
        "test_set = df.iloc[49:, 1:-1].values"
      ]
    },
    {
      "cell_type": "code",
      "execution_count": 9,
      "metadata": {
        "id": "MnZ_yiGXlNIP"
      },
      "outputs": [],
      "source": [
        "from numpy import array\n",
        "\n",
        "# split a univariate sequence into samples\n",
        "def split_sequence(sequence, n_steps):\n",
        "\tX, y = list(), list()\n",
        "\tfor i in range(len(sequence)):\n",
        "\t\t# find the end of this pattern\n",
        "\t\tend_ix = i + n_steps\n",
        "\t\t# check if we are beyond the sequence\n",
        "\t\tif end_ix > len(sequence)-1:\n",
        "\t\t\tbreak\n",
        "\t\t# gather input and output parts of the pattern\n",
        "\t\tseq_x, seq_y = sequence[i:end_ix], sequence[end_ix]\n",
        "\t\tX.append(seq_x)\n",
        "\t\ty.append(seq_y)\n",
        "\treturn array(X), array(y)"
      ]
    },
    {
      "cell_type": "code",
      "execution_count": 10,
      "metadata": {
        "id": "ljfl8F5fkbhO"
      },
      "outputs": [],
      "source": [
        "# Feature Scaling\n",
        "sc = MinMaxScaler(feature_range = (0, 1))\n",
        "training_set_scaled = sc.fit_transform(training_set)\n",
        "# Creating a data structure with 60 time-steps and 1 output\n",
        "X_train = []\n",
        "y_train = []\n",
        "x = 5\n",
        "for i in range(x, 197):\n",
        "    X_train.append(training_set_scaled[i-x:i, 0])\n",
        "    y_train.append(training_set_scaled[i, 0])\n",
        "X_train, y_train = np.array(X_train), np.array(y_train)\n",
        "X_train = np.reshape(X_train, (X_train.shape[0], X_train.shape[1], 1))\n",
        "#(740, 60, 1)"
      ]
    },
    {
      "cell_type": "code",
      "execution_count": 11,
      "metadata": {
        "id": "VgU5y7RblZSa"
      },
      "outputs": [],
      "source": [
        "xtrainbaru = np.reshape(X_train, (192, 5))"
      ]
    },
    {
      "cell_type": "code",
      "execution_count": 12,
      "metadata": {
        "colab": {
          "base_uri": "https://localhost:8080/"
        },
        "id": "fZDD_nTmm3fG",
        "outputId": "fb01b38e-790d-4659-8d37-152d8d53e3f3"
      },
      "outputs": [
        {
          "output_type": "execute_result",
          "data": {
            "text/plain": [
              "array([[0.38461538, 0.41758242, 0.37362637, 0.38461538, 0.52747253],\n",
              "       [0.41758242, 0.37362637, 0.38461538, 0.52747253, 0.51648352],\n",
              "       [0.37362637, 0.38461538, 0.52747253, 0.51648352, 0.50549451],\n",
              "       [0.38461538, 0.52747253, 0.51648352, 0.50549451, 0.6043956 ],\n",
              "       [0.52747253, 0.51648352, 0.50549451, 0.6043956 , 0.73626374],\n",
              "       [0.51648352, 0.50549451, 0.6043956 , 0.73626374, 0.58241758],\n",
              "       [0.50549451, 0.6043956 , 0.73626374, 0.58241758, 0.48351648],\n",
              "       [0.6043956 , 0.73626374, 0.58241758, 0.48351648, 0.58241758],\n",
              "       [0.73626374, 0.58241758, 0.48351648, 0.58241758, 0.49450549],\n",
              "       [0.58241758, 0.48351648, 0.58241758, 0.49450549, 0.38461538],\n",
              "       [0.48351648, 0.58241758, 0.49450549, 0.38461538, 0.35164835],\n",
              "       [0.58241758, 0.49450549, 0.38461538, 0.35164835, 0.30769231],\n",
              "       [0.49450549, 0.38461538, 0.35164835, 0.30769231, 0.32967033],\n",
              "       [0.38461538, 0.35164835, 0.30769231, 0.32967033, 0.28571429],\n",
              "       [0.35164835, 0.30769231, 0.32967033, 0.28571429, 0.26373626],\n",
              "       [0.30769231, 0.32967033, 0.28571429, 0.26373626, 0.21978022],\n",
              "       [0.32967033, 0.28571429, 0.26373626, 0.21978022, 0.17582418],\n",
              "       [0.28571429, 0.26373626, 0.21978022, 0.17582418, 0.17582418],\n",
              "       [0.26373626, 0.21978022, 0.17582418, 0.17582418, 0.23076923],\n",
              "       [0.21978022, 0.17582418, 0.17582418, 0.23076923, 0.21978022],\n",
              "       [0.17582418, 0.17582418, 0.23076923, 0.21978022, 0.23076923],\n",
              "       [0.17582418, 0.23076923, 0.21978022, 0.23076923, 0.26373626],\n",
              "       [0.23076923, 0.21978022, 0.23076923, 0.26373626, 0.21978022],\n",
              "       [0.21978022, 0.23076923, 0.26373626, 0.21978022, 0.25274725],\n",
              "       [0.23076923, 0.26373626, 0.21978022, 0.25274725, 0.23076923],\n",
              "       [0.26373626, 0.21978022, 0.25274725, 0.23076923, 0.23076923],\n",
              "       [0.21978022, 0.25274725, 0.23076923, 0.23076923, 0.24175824],\n",
              "       [0.25274725, 0.23076923, 0.23076923, 0.24175824, 0.20879121],\n",
              "       [0.23076923, 0.23076923, 0.24175824, 0.20879121, 0.20879121],\n",
              "       [0.23076923, 0.24175824, 0.20879121, 0.20879121, 0.24175824],\n",
              "       [0.24175824, 0.20879121, 0.20879121, 0.24175824, 0.20879121],\n",
              "       [0.20879121, 0.20879121, 0.24175824, 0.20879121, 0.21978022],\n",
              "       [0.20879121, 0.24175824, 0.20879121, 0.21978022, 0.20879121],\n",
              "       [0.24175824, 0.20879121, 0.21978022, 0.20879121, 0.35164835],\n",
              "       [0.20879121, 0.21978022, 0.20879121, 0.35164835, 0.37362637],\n",
              "       [0.21978022, 0.20879121, 0.35164835, 0.37362637, 0.45054945],\n",
              "       [0.20879121, 0.35164835, 0.37362637, 0.45054945, 0.41758242],\n",
              "       [0.35164835, 0.37362637, 0.45054945, 0.41758242, 0.45054945],\n",
              "       [0.37362637, 0.45054945, 0.41758242, 0.45054945, 0.3956044 ],\n",
              "       [0.45054945, 0.41758242, 0.45054945, 0.3956044 , 0.46153846],\n",
              "       [0.41758242, 0.45054945, 0.3956044 , 0.46153846, 0.41758242],\n",
              "       [0.45054945, 0.3956044 , 0.46153846, 0.41758242, 0.38461538],\n",
              "       [0.3956044 , 0.46153846, 0.41758242, 0.38461538, 0.32967033],\n",
              "       [0.46153846, 0.41758242, 0.38461538, 0.32967033, 0.25274725],\n",
              "       [0.41758242, 0.38461538, 0.32967033, 0.25274725, 0.2967033 ],\n",
              "       [0.38461538, 0.32967033, 0.25274725, 0.2967033 , 0.30769231],\n",
              "       [0.32967033, 0.25274725, 0.2967033 , 0.30769231, 0.25274725],\n",
              "       [0.25274725, 0.2967033 , 0.30769231, 0.25274725, 0.25274725],\n",
              "       [0.2967033 , 0.30769231, 0.25274725, 0.25274725, 0.1978022 ],\n",
              "       [0.30769231, 0.25274725, 0.25274725, 0.1978022 , 0.23076923],\n",
              "       [0.25274725, 0.25274725, 0.1978022 , 0.23076923, 0.25274725],\n",
              "       [0.25274725, 0.1978022 , 0.23076923, 0.25274725, 0.26373626],\n",
              "       [0.1978022 , 0.23076923, 0.25274725, 0.26373626, 0.1978022 ],\n",
              "       [0.23076923, 0.25274725, 0.26373626, 0.1978022 , 0.17582418],\n",
              "       [0.25274725, 0.26373626, 0.1978022 , 0.17582418, 0.24175824],\n",
              "       [0.26373626, 0.1978022 , 0.17582418, 0.24175824, 0.21978022],\n",
              "       [0.1978022 , 0.17582418, 0.24175824, 0.21978022, 0.25274725],\n",
              "       [0.17582418, 0.24175824, 0.21978022, 0.25274725, 0.25274725],\n",
              "       [0.24175824, 0.21978022, 0.25274725, 0.25274725, 0.27472527],\n",
              "       [0.21978022, 0.25274725, 0.25274725, 0.27472527, 0.28571429],\n",
              "       [0.25274725, 0.25274725, 0.27472527, 0.28571429, 0.26373626],\n",
              "       [0.25274725, 0.27472527, 0.28571429, 0.26373626, 0.30769231],\n",
              "       [0.27472527, 0.28571429, 0.26373626, 0.30769231, 0.28571429],\n",
              "       [0.28571429, 0.26373626, 0.30769231, 0.28571429, 0.38461538],\n",
              "       [0.26373626, 0.30769231, 0.28571429, 0.38461538, 0.45054945],\n",
              "       [0.30769231, 0.28571429, 0.38461538, 0.45054945, 0.54945055],\n",
              "       [0.28571429, 0.38461538, 0.45054945, 0.54945055, 0.51648352],\n",
              "       [0.38461538, 0.45054945, 0.54945055, 0.51648352, 0.56043956],\n",
              "       [0.45054945, 0.54945055, 0.51648352, 0.56043956, 0.61538462],\n",
              "       [0.54945055, 0.51648352, 0.56043956, 0.61538462, 0.62637363],\n",
              "       [0.51648352, 0.56043956, 0.61538462, 0.62637363, 0.65934066],\n",
              "       [0.56043956, 0.61538462, 0.62637363, 0.65934066, 0.62637363],\n",
              "       [0.61538462, 0.62637363, 0.65934066, 0.62637363, 0.64835165],\n",
              "       [0.62637363, 0.65934066, 0.62637363, 0.64835165, 0.61538462],\n",
              "       [0.65934066, 0.62637363, 0.64835165, 0.61538462, 0.65934066],\n",
              "       [0.62637363, 0.64835165, 0.61538462, 0.65934066, 0.63736264],\n",
              "       [0.64835165, 0.61538462, 0.65934066, 0.63736264, 0.59340659],\n",
              "       [0.61538462, 0.65934066, 0.63736264, 0.59340659, 0.58241758],\n",
              "       [0.65934066, 0.63736264, 0.59340659, 0.58241758, 0.48351648],\n",
              "       [0.63736264, 0.59340659, 0.58241758, 0.48351648, 0.61538462],\n",
              "       [0.59340659, 0.58241758, 0.48351648, 0.61538462, 0.67032967],\n",
              "       [0.58241758, 0.48351648, 0.61538462, 0.67032967, 0.65934066],\n",
              "       [0.48351648, 0.61538462, 0.67032967, 0.65934066, 0.61538462],\n",
              "       [0.61538462, 0.67032967, 0.65934066, 0.61538462, 0.51648352],\n",
              "       [0.67032967, 0.65934066, 0.61538462, 0.51648352, 0.65934066],\n",
              "       [0.65934066, 0.61538462, 0.51648352, 0.65934066, 0.67032967],\n",
              "       [0.61538462, 0.51648352, 0.65934066, 0.67032967, 0.78021978],\n",
              "       [0.51648352, 0.65934066, 0.67032967, 0.78021978, 0.79120879],\n",
              "       [0.65934066, 0.67032967, 0.78021978, 0.79120879, 0.7032967 ],\n",
              "       [0.67032967, 0.78021978, 0.79120879, 0.7032967 , 0.71428571],\n",
              "       [0.78021978, 0.79120879, 0.7032967 , 0.71428571, 0.64835165],\n",
              "       [0.79120879, 0.7032967 , 0.71428571, 0.64835165, 0.68131868],\n",
              "       [0.7032967 , 0.71428571, 0.64835165, 0.68131868, 0.73626374],\n",
              "       [0.71428571, 0.64835165, 0.68131868, 0.73626374, 0.78021978],\n",
              "       [0.64835165, 0.68131868, 0.73626374, 0.78021978, 0.85714286],\n",
              "       [0.68131868, 0.73626374, 0.78021978, 0.85714286, 0.89010989],\n",
              "       [0.73626374, 0.78021978, 0.85714286, 0.89010989, 0.91208791],\n",
              "       [0.78021978, 0.85714286, 0.89010989, 0.91208791, 0.87912088],\n",
              "       [0.85714286, 0.89010989, 0.91208791, 0.87912088, 1.        ],\n",
              "       [0.89010989, 0.91208791, 0.87912088, 1.        , 0.97802198],\n",
              "       [0.91208791, 0.87912088, 1.        , 0.97802198, 0.84615385],\n",
              "       [0.87912088, 1.        , 0.97802198, 0.84615385, 0.8021978 ],\n",
              "       [1.        , 0.97802198, 0.84615385, 0.8021978 , 0.91208791],\n",
              "       [0.97802198, 0.84615385, 0.8021978 , 0.91208791, 0.93406593],\n",
              "       [0.84615385, 0.8021978 , 0.91208791, 0.93406593, 0.87912088],\n",
              "       [0.8021978 , 0.91208791, 0.93406593, 0.87912088, 0.84615385],\n",
              "       [0.91208791, 0.93406593, 0.87912088, 0.84615385, 0.71428571],\n",
              "       [0.93406593, 0.87912088, 0.84615385, 0.71428571, 0.72527473],\n",
              "       [0.87912088, 0.84615385, 0.71428571, 0.72527473, 0.75824176],\n",
              "       [0.84615385, 0.71428571, 0.72527473, 0.75824176, 0.74725275],\n",
              "       [0.71428571, 0.72527473, 0.75824176, 0.74725275, 0.74725275],\n",
              "       [0.72527473, 0.75824176, 0.74725275, 0.74725275, 0.72527473],\n",
              "       [0.75824176, 0.74725275, 0.74725275, 0.72527473, 0.68131868],\n",
              "       [0.74725275, 0.74725275, 0.72527473, 0.68131868, 0.74725275],\n",
              "       [0.74725275, 0.72527473, 0.68131868, 0.74725275, 0.74725275],\n",
              "       [0.72527473, 0.68131868, 0.74725275, 0.74725275, 0.7032967 ],\n",
              "       [0.68131868, 0.74725275, 0.74725275, 0.7032967 , 0.74725275],\n",
              "       [0.74725275, 0.74725275, 0.7032967 , 0.74725275, 0.75824176],\n",
              "       [0.74725275, 0.7032967 , 0.74725275, 0.75824176, 0.71594501],\n",
              "       [0.7032967 , 0.74725275, 0.75824176, 0.71594501, 0.72690355],\n",
              "       [0.74725275, 0.75824176, 0.71594501, 0.72690355, 0.43102357],\n",
              "       [0.75824176, 0.71594501, 0.72690355, 0.43102357, 0.43102357],\n",
              "       [0.71594501, 0.72690355, 0.43102357, 0.43102357, 0.4091065 ],\n",
              "       [0.72690355, 0.43102357, 0.43102357, 0.4091065 , 0.36527236],\n",
              "       [0.43102357, 0.43102357, 0.4091065 , 0.36527236, 0.31868132],\n",
              "       [0.43102357, 0.4091065 , 0.36527236, 0.31868132, 0.46153846],\n",
              "       [0.4091065 , 0.36527236, 0.31868132, 0.46153846, 0.42857143],\n",
              "       [0.36527236, 0.31868132, 0.46153846, 0.42857143, 0.51648352],\n",
              "       [0.31868132, 0.46153846, 0.42857143, 0.51648352, 0.41758242],\n",
              "       [0.46153846, 0.42857143, 0.51648352, 0.41758242, 0.3956044 ],\n",
              "       [0.42857143, 0.51648352, 0.41758242, 0.3956044 , 0.34065934],\n",
              "       [0.51648352, 0.41758242, 0.3956044 , 0.34065934, 0.31868132],\n",
              "       [0.41758242, 0.3956044 , 0.34065934, 0.31868132, 0.31868132],\n",
              "       [0.3956044 , 0.34065934, 0.31868132, 0.31868132, 0.35164835],\n",
              "       [0.34065934, 0.31868132, 0.31868132, 0.35164835, 0.35164835],\n",
              "       [0.31868132, 0.31868132, 0.35164835, 0.35164835, 0.30769231],\n",
              "       [0.31868132, 0.35164835, 0.35164835, 0.30769231, 0.2967033 ],\n",
              "       [0.35164835, 0.35164835, 0.30769231, 0.2967033 , 0.2967033 ],\n",
              "       [0.35164835, 0.30769231, 0.2967033 , 0.2967033 , 0.26373626],\n",
              "       [0.30769231, 0.2967033 , 0.2967033 , 0.26373626, 0.27472527],\n",
              "       [0.2967033 , 0.2967033 , 0.26373626, 0.27472527, 0.30769231],\n",
              "       [0.2967033 , 0.26373626, 0.27472527, 0.30769231, 0.35164835],\n",
              "       [0.26373626, 0.27472527, 0.30769231, 0.35164835, 0.30769231],\n",
              "       [0.27472527, 0.30769231, 0.35164835, 0.30769231, 0.48351648],\n",
              "       [0.30769231, 0.35164835, 0.30769231, 0.48351648, 0.51648352],\n",
              "       [0.35164835, 0.30769231, 0.48351648, 0.51648352, 0.46153846],\n",
              "       [0.30769231, 0.48351648, 0.51648352, 0.46153846, 0.47252747],\n",
              "       [0.48351648, 0.51648352, 0.46153846, 0.47252747, 0.59340659],\n",
              "       [0.51648352, 0.46153846, 0.47252747, 0.59340659, 0.53846154],\n",
              "       [0.46153846, 0.47252747, 0.59340659, 0.53846154, 0.6043956 ],\n",
              "       [0.47252747, 0.59340659, 0.53846154, 0.6043956 , 0.52747253],\n",
              "       [0.59340659, 0.53846154, 0.6043956 , 0.52747253, 0.43956044],\n",
              "       [0.53846154, 0.6043956 , 0.52747253, 0.43956044, 0.50549451],\n",
              "       [0.6043956 , 0.52747253, 0.43956044, 0.50549451, 0.49450549],\n",
              "       [0.52747253, 0.43956044, 0.50549451, 0.49450549, 0.50549451],\n",
              "       [0.43956044, 0.50549451, 0.49450549, 0.50549451, 0.50549451],\n",
              "       [0.50549451, 0.49450549, 0.50549451, 0.50549451, 0.58241758],\n",
              "       [0.49450549, 0.50549451, 0.50549451, 0.58241758, 0.54945055],\n",
              "       [0.50549451, 0.50549451, 0.58241758, 0.54945055, 0.53846154],\n",
              "       [0.50549451, 0.58241758, 0.54945055, 0.53846154, 0.61538462],\n",
              "       [0.58241758, 0.54945055, 0.53846154, 0.61538462, 0.59340659],\n",
              "       [0.54945055, 0.53846154, 0.61538462, 0.59340659, 0.59340659],\n",
              "       [0.53846154, 0.61538462, 0.59340659, 0.59340659, 0.54945055],\n",
              "       [0.61538462, 0.59340659, 0.59340659, 0.54945055, 0.54945055],\n",
              "       [0.59340659, 0.59340659, 0.54945055, 0.54945055, 0.54945055],\n",
              "       [0.59340659, 0.54945055, 0.54945055, 0.54945055, 0.54945055],\n",
              "       [0.54945055, 0.54945055, 0.54945055, 0.54945055, 0.64835165],\n",
              "       [0.54945055, 0.54945055, 0.54945055, 0.64835165, 0.74725275],\n",
              "       [0.54945055, 0.54945055, 0.64835165, 0.74725275, 0.73626374],\n",
              "       [0.54945055, 0.64835165, 0.74725275, 0.73626374, 0.72527473],\n",
              "       [0.64835165, 0.74725275, 0.73626374, 0.72527473, 0.71428571],\n",
              "       [0.74725275, 0.73626374, 0.72527473, 0.71428571, 0.68131868],\n",
              "       [0.73626374, 0.72527473, 0.71428571, 0.68131868, 0.63736264],\n",
              "       [0.72527473, 0.71428571, 0.68131868, 0.63736264, 0.68131868],\n",
              "       [0.71428571, 0.68131868, 0.63736264, 0.68131868, 0.65934066],\n",
              "       [0.68131868, 0.63736264, 0.68131868, 0.65934066, 0.62637363],\n",
              "       [0.63736264, 0.68131868, 0.65934066, 0.62637363, 0.7032967 ],\n",
              "       [0.68131868, 0.65934066, 0.62637363, 0.7032967 , 0.61538462],\n",
              "       [0.65934066, 0.62637363, 0.7032967 , 0.61538462, 0.61538462],\n",
              "       [0.62637363, 0.7032967 , 0.61538462, 0.61538462, 0.53846154],\n",
              "       [0.7032967 , 0.61538462, 0.61538462, 0.53846154, 0.54945055],\n",
              "       [0.61538462, 0.61538462, 0.53846154, 0.54945055, 0.50549451],\n",
              "       [0.61538462, 0.53846154, 0.54945055, 0.50549451, 0.54945055],\n",
              "       [0.53846154, 0.54945055, 0.50549451, 0.54945055, 0.50549451],\n",
              "       [0.54945055, 0.50549451, 0.54945055, 0.50549451, 0.43956044],\n",
              "       [0.50549451, 0.54945055, 0.50549451, 0.43956044, 0.40659341],\n",
              "       [0.54945055, 0.50549451, 0.43956044, 0.40659341, 0.3956044 ],\n",
              "       [0.50549451, 0.43956044, 0.40659341, 0.3956044 , 0.32967033],\n",
              "       [0.43956044, 0.40659341, 0.3956044 , 0.32967033, 0.26373626],\n",
              "       [0.40659341, 0.3956044 , 0.32967033, 0.26373626, 0.27472527],\n",
              "       [0.3956044 , 0.32967033, 0.26373626, 0.27472527, 0.04395604],\n",
              "       [0.32967033, 0.26373626, 0.27472527, 0.04395604, 0.        ]])"
            ]
          },
          "metadata": {},
          "execution_count": 12
        }
      ],
      "source": [
        "xtrainbaru"
      ]
    },
    {
      "cell_type": "markdown",
      "source": [
        "### KNN"
      ],
      "metadata": {
        "id": "nzh1cwv0Pj8A"
      }
    },
    {
      "cell_type": "code",
      "execution_count": 13,
      "metadata": {
        "id": "dEItUJVsm7HX"
      },
      "outputs": [],
      "source": [
        "from sklearn.neighbors import KNeighborsRegressor\n",
        "neigh = KNeighborsRegressor(n_neighbors=3)\n",
        "modelknn=neigh.fit(xtrainbaru, y_train)"
      ]
    },
    {
      "cell_type": "code",
      "execution_count": 14,
      "metadata": {
        "id": "rrCiuueinQJK",
        "colab": {
          "base_uri": "https://localhost:8080/"
        },
        "outputId": "dc961cc8-653d-484e-adcb-544cdffeaf2e"
      },
      "outputs": [
        {
          "output_type": "execute_result",
          "data": {
            "text/plain": [
              "(202, 1)"
            ]
          },
          "metadata": {},
          "execution_count": 14
        }
      ],
      "source": [
        "# Definisikan dataset_train dan dataset_test\n",
        "dataset_train = df.iloc[:197, 1:2]  # Menggunakan 45 baris pertama sebagai data latihan\n",
        "dataset_test = df.iloc[49:, 1:2]  # Menggunakan baris setelah 45 sebagai data uji\n",
        "\n",
        "# Menggabungkan dataset_train dan dataset_test\n",
        "dataset_total = pd.concat([dataset_train, dataset_test], axis=0)\n",
        "\n",
        "# Mengambil input dari dataset_total\n",
        "inputs = dataset_total[len(dataset_total) - len(dataset_test) - 5:].values\n",
        "#print(inputs)\n",
        "inputs.shape"
      ]
    },
    {
      "cell_type": "code",
      "execution_count": 15,
      "metadata": {
        "id": "lmhn6N-QnR26"
      },
      "outputs": [],
      "source": [
        "inputs = inputs.reshape(-1,1)\n",
        "#print(inputs)"
      ]
    },
    {
      "cell_type": "code",
      "execution_count": 16,
      "metadata": {
        "colab": {
          "base_uri": "https://localhost:8080/"
        },
        "id": "voQ9IIxbnThU",
        "outputId": "9d6a3294-71f0-4b83-91ed-9ade33a83130"
      },
      "outputs": [
        {
          "output_type": "stream",
          "name": "stdout",
          "text": [
            "(19, 5, 1)\n"
          ]
        }
      ],
      "source": [
        "inputs =sc.fit_transform(inputs)\n",
        "X_test = []\n",
        "for i in range(5, 24):\n",
        "    X_test.append(inputs[i-5:i, 0])\n",
        "X_test = np.array(X_test)\n",
        "X_test = np.reshape(X_test, (X_test.shape[0], X_test.shape[1], 1))\n",
        "print(X_test.shape)"
      ]
    },
    {
      "cell_type": "code",
      "execution_count": 17,
      "metadata": {
        "id": "R78gkjFdnVW6"
      },
      "outputs": [],
      "source": [
        "xtestbaru = np.reshape(X_test, (19, 5))"
      ]
    },
    {
      "cell_type": "code",
      "execution_count": 18,
      "metadata": {
        "id": "B-P7f8conXsW"
      },
      "outputs": [],
      "source": [
        "predicted_pass = modelknn.predict(xtestbaru)\n",
        "\n",
        "predicted_pass = predicted_pass.reshape(-1,1)\n",
        "prediksi= sc.inverse_transform(predicted_pass)\n",
        "dataset_test=dataset_test.iloc[0:19]"
      ]
    },
    {
      "cell_type": "code",
      "source": [
        "from sklearn.metrics import mean_absolute_percentage_error\n",
        "mape = mean_absolute_percentage_error(dataset_test, prediksi)\n",
        "\n",
        "# Menghitung akurasi\n",
        "akurasi = 1 - mape  # bisa menggunakan 1 - MAPE untuk menghitung akurasi\n",
        "\n",
        "print(\"Nilai MAPE:\", mape)\n",
        "print(\"Nilai akurasi:\", akurasi)"
      ],
      "metadata": {
        "colab": {
          "base_uri": "https://localhost:8080/"
        },
        "id": "yOZP4jBTPbHI",
        "outputId": "83882ad6-1b95-4635-efed-dcdbf3fd2cd6"
      },
      "execution_count": 19,
      "outputs": [
        {
          "output_type": "stream",
          "name": "stdout",
          "text": [
            "Nilai MAPE: 0.023882418824866126\n",
            "Nilai akurasi: 0.9761175811751339\n"
          ]
        }
      ]
    },
    {
      "cell_type": "markdown",
      "source": [
        "### Prediksi KNN dengan data baru"
      ],
      "metadata": {
        "id": "GauB3fbdmlay"
      }
    },
    {
      "cell_type": "code",
      "source": [
        "# # Siapkan data input untuk prediksi 1 hari ke depan\n",
        "# input_1_day = input_1_day = np.array([[6100, 5950, 5700, 5900, 6150]])\n",
        "\n",
        "# # Transformasikan data input\n",
        "# input_1_day = sc.fit_transform(input_1_day)  # Sesuaikan dengan transformasi yang digunakan pada saat pelatihan\n",
        "\n",
        "# # Bentuk data input sesuai dengan format yang diharapkan oleh model\n",
        "# input_1_day = np.reshape(input_1_day, (1, input_1_day.shape[0], input_1_day.shape[1]))\n",
        "\n",
        "# # Lakukan prediksi 1 hari ke depan\n",
        "# predicted_value = modelknn.predict(input_1_day)\n",
        "\n",
        "# # Inversikan transformasi jika diperlukan\n",
        "# predicted_value = sc.inverse_transform(predicted_value)  # Sesuaikan dengan inversi transformasi yang digunakan\n",
        "\n",
        "# print(\"Prediksi 1 hari ke depan:\", predicted_value)\n"
      ],
      "metadata": {
        "id": "4TCCa5J2nICY"
      },
      "execution_count": 21,
      "outputs": []
    },
    {
      "cell_type": "markdown",
      "source": [
        "### SVM"
      ],
      "metadata": {
        "id": "Yce3tBQ7Pd3t"
      }
    },
    {
      "cell_type": "code",
      "execution_count": 22,
      "metadata": {
        "id": "vgueaHdW4gGO"
      },
      "outputs": [],
      "source": [
        "from sklearn.svm import SVR\n",
        "svm = SVR(kernel='rbf')\n",
        "model=svm.fit(xtrainbaru, y_train)\n",
        "# Definisikan dataset_train dan dataset_test\n",
        "dataset_train = df.iloc[:197, 1:2]  # Menggunakan 45 baris pertama sebagai data latihan\n",
        "dataset_test = df.iloc[49:, 1:2]  # Menggunakan baris setelah 45 sebagai data uji\n",
        "# Menggabungkan dataset_train dan dataset_test\n",
        "dataset_total = pd.concat([dataset_train, dataset_test], axis=0)"
      ]
    },
    {
      "cell_type": "code",
      "execution_count": 23,
      "metadata": {
        "colab": {
          "base_uri": "https://localhost:8080/"
        },
        "id": "GgMknysX2wfb",
        "outputId": "dc99832c-e277-4643-afa9-10cf875b8034"
      },
      "outputs": [
        {
          "output_type": "stream",
          "name": "stdout",
          "text": [
            "(19, 5, 1)\n"
          ]
        }
      ],
      "source": [
        "\n",
        " #Mengambil input dari dataset_total\n",
        "inputs = dataset_total[len(dataset_total) - len(dataset_test) - 5:].values\n",
        "inputs = inputs.reshape(-1,1)\n",
        "xtestbaru = np.reshape(X_test, (19, 5))\n",
        "inputs =sc.fit_transform(inputs)\n",
        "X_test = []\n",
        "for i in range(5, 24):\n",
        "    X_test.append(inputs[i-5:i, 0])\n",
        "X_test = np.array(X_test)\n",
        "X_test = np.reshape(X_test, (X_test.shape[0], X_test.shape[1], 1))\n",
        "print(X_test.shape)"
      ]
    },
    {
      "cell_type": "code",
      "execution_count": 24,
      "metadata": {
        "id": "G-KNZOhq4te1"
      },
      "outputs": [],
      "source": [
        "\n",
        "xtestbaru = np.reshape(X_test, (19, 5))\n",
        "predicted_pass = model.predict(xtestbaru)\n",
        "\n",
        "predicted_pass = predicted_pass.reshape(-1,1)\n",
        "prediksi= sc.inverse_transform(predicted_pass)\n",
        "dataset_test=dataset_test.iloc[0:19]\n"
      ]
    },
    {
      "cell_type": "code",
      "execution_count": 25,
      "metadata": {
        "colab": {
          "base_uri": "https://localhost:8080/"
        },
        "id": "1ZS2XxFXMec6",
        "outputId": "b7c6fadd-2eb2-4e35-d465-5c82b1f51b46"
      },
      "outputs": [
        {
          "output_type": "stream",
          "name": "stdout",
          "text": [
            "Nilai MAPE: 0.026296770842688083\n",
            "Nilai akurasi: 0.9737032291573119\n"
          ]
        }
      ],
      "source": [
        "from sklearn.metrics import mean_absolute_percentage_error\n",
        "mape = mean_absolute_percentage_error(dataset_test, prediksi)\n",
        "\n",
        "# Menghitung akurasi\n",
        "akurasi = 1 - mape  # bisa menggunakan 1 - MAPE untuk menghitung akurasi\n",
        "\n",
        "print(\"Nilai MAPE:\", mape)\n",
        "print(\"Nilai akurasi:\", akurasi)"
      ]
    }
  ],
  "metadata": {
    "colab": {
      "provenance": [],
      "history_visible": true,
      "include_colab_link": true
    },
    "kernelspec": {
      "display_name": "Python 3",
      "name": "python3"
    },
    "language_info": {
      "name": "python"
    }
  },
  "nbformat": 4,
  "nbformat_minor": 0
}